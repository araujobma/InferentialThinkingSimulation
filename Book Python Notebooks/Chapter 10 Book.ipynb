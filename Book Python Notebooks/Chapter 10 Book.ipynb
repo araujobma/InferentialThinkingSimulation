{
 "cells": [
  {
   "cell_type": "markdown",
   "id": "touched-institution",
   "metadata": {},
   "source": [
    "# Sampling and Empirical Distributions"
   ]
  },
  {
   "cell_type": "code",
   "execution_count": null,
   "id": "previous-auction",
   "metadata": {},
   "outputs": [],
   "source": [
    "from datascience import *\n",
    "import numpy as np\n",
    "import os\n",
    "%matplotlib inline"
   ]
  },
  {
   "cell_type": "code",
   "execution_count": null,
   "id": "parental-moisture",
   "metadata": {},
   "outputs": [],
   "source": [
    "path_data = os.getcwd()\n",
    "\n",
    "top1 = Table.read_table(path_data + 'top_movies.csv')\n",
    "top2 = top1.with_column('Row Index', np.arange(top1.num_rows))\n",
    "top = top2.move_to_start('Row Index')\n",
    "\n",
    "top.set_format(make_array(3, 4), NumberFormatter)"
   ]
  },
  {
   "cell_type": "code",
   "execution_count": null,
   "id": "further-wells",
   "metadata": {},
   "outputs": [],
   "source": []
  },
  {
   "cell_type": "code",
   "execution_count": null,
   "id": "substantial-cutting",
   "metadata": {},
   "outputs": [],
   "source": []
  },
  {
   "cell_type": "markdown",
   "id": "portuguese-shore",
   "metadata": {},
   "source": [
    "## Empirical Distribution"
   ]
  },
  {
   "cell_type": "code",
   "execution_count": null,
   "id": "subtle-sight",
   "metadata": {},
   "outputs": [],
   "source": [
    "die = Table().with_column('Face', np.arange(1, 7, 1))\n",
    "die"
   ]
  },
  {
   "cell_type": "code",
   "execution_count": null,
   "id": "criminal-riverside",
   "metadata": {},
   "outputs": [],
   "source": [
    "die_bins = np.arange(0.5, 6.6, 1)\n",
    "die.hist(bins = die_bins)"
   ]
  },
  {
   "cell_type": "code",
   "execution_count": null,
   "id": "everyday-detail",
   "metadata": {},
   "outputs": [],
   "source": [
    "die.sample(10)"
   ]
  },
  {
   "cell_type": "code",
   "execution_count": null,
   "id": "incomplete-trance",
   "metadata": {},
   "outputs": [],
   "source": [
    "def empirical_hist_die(n):\n",
    "    die.sample(n).hist(bins = die_bins)"
   ]
  },
  {
   "cell_type": "code",
   "execution_count": null,
   "id": "honey-creativity",
   "metadata": {},
   "outputs": [],
   "source": [
    "empirical_hist_die(10)"
   ]
  },
  {
   "cell_type": "code",
   "execution_count": null,
   "id": "internal-modem",
   "metadata": {},
   "outputs": [],
   "source": [
    "empirical_hist_die(1000)"
   ]
  },
  {
   "cell_type": "markdown",
   "id": "military-label",
   "metadata": {},
   "source": [
    "## Sampling from a population"
   ]
  },
  {
   "cell_type": "code",
   "execution_count": null,
   "id": "polar-boutique",
   "metadata": {},
   "outputs": [],
   "source": []
  }
 ],
 "metadata": {
  "kernelspec": {
   "display_name": "Python 3",
   "language": "python",
   "name": "python3"
  },
  "language_info": {
   "codemirror_mode": {
    "name": "ipython",
    "version": 3
   },
   "file_extension": ".py",
   "mimetype": "text/x-python",
   "name": "python",
   "nbconvert_exporter": "python",
   "pygments_lexer": "ipython3",
   "version": "3.9.1"
  }
 },
 "nbformat": 4,
 "nbformat_minor": 5
}
