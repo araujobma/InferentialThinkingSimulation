{
 "cells": [
  {
   "cell_type": "markdown",
   "id": "satisfied-interaction",
   "metadata": {},
   "source": [
    "# Testing Hypotheses"
   ]
  },
  {
   "cell_type": "code",
   "execution_count": null,
   "id": "separated-condition",
   "metadata": {},
   "outputs": [],
   "source": [
    "from datascience import *\n",
    "%matplotlib inline\n",
    "import matplotlib.pyplot as plt\n",
    "plt.style.use('fivethirtyeight')\n",
    "import numpy as np"
   ]
  },
  {
   "cell_type": "markdown",
   "id": "senior-pasta",
   "metadata": {},
   "source": [
    "## U.S. Supreme Court, 1965: Swain vs. Alabama "
   ]
  },
  {
   "cell_type": "code",
   "execution_count": null,
   "id": "falling-spotlight",
   "metadata": {},
   "outputs": [],
   "source": [
    "eligible_population = [0.26, 0.74]\n",
    "sample_proportions(100, eligible_population)\n"
   ]
  },
  {
   "cell_type": "code",
   "execution_count": null,
   "id": "prepared-sleep",
   "metadata": {},
   "outputs": [],
   "source": [
    "# count of black men in a simulated panel\n",
    "\n",
    "(100 * sample_proportions(100, eligible_population)).item(0)\n"
   ]
  },
  {
   "cell_type": "code",
   "execution_count": null,
   "id": "sought-module",
   "metadata": {},
   "outputs": [],
   "source": [
    "def one_simulated_count():\n",
    "    return (100 * sample_proportions(100, eligible_population)).item(0)\n"
   ]
  },
  {
   "cell_type": "code",
   "execution_count": null,
   "id": "liked-gabriel",
   "metadata": {},
   "outputs": [],
   "source": [
    "counts = make_array()\n",
    "\n",
    "repetitions = 10000\n",
    "for i in np.arange(repetitions):\n",
    "    counts = np.append(counts, one_simulated_count())\n"
   ]
  },
  {
   "cell_type": "code",
   "execution_count": null,
   "id": "broad-gibson",
   "metadata": {},
   "outputs": [],
   "source": [
    "Table().with_column(\n",
    "    'Count in a Random Sample', counts\n",
    ").hist(bins = np.arange(5.5, 46.6, 1))\n"
   ]
  },
  {
   "cell_type": "code",
   "execution_count": null,
   "id": "dietary-milan",
   "metadata": {},
   "outputs": [],
   "source": [
    "Table().with_column(\n",
    "    'Count in a Random Sample', counts\n",
    ").hist(bins = np.arange(5.5, 46.6, 1))\n",
    "plt.scatter(8, 0, color='red', s=30)"
   ]
  },
  {
   "cell_type": "markdown",
   "id": "provincial-dairy",
   "metadata": {},
   "source": [
    "## Mendel's Pea Flowers"
   ]
  },
  {
   "cell_type": "code",
   "execution_count": null,
   "id": "relevant-jordan",
   "metadata": {},
   "outputs": [],
   "source": [
    "def distance_from_75(p):\n",
    "    return abs(100*p - 75)\n"
   ]
  },
  {
   "cell_type": "code",
   "execution_count": null,
   "id": "legitimate-traveler",
   "metadata": {},
   "outputs": [],
   "source": [
    "model_proportions = [0.75, 0.25]\n"
   ]
  },
  {
   "cell_type": "code",
   "execution_count": null,
   "id": "fatal-madison",
   "metadata": {},
   "outputs": [],
   "source": [
    "proportion_purple_in_sample = sample_proportions(929, model_proportions).item(0)\n",
    "distance_from_75(proportion_purple_in_sample)\n"
   ]
  },
  {
   "cell_type": "code",
   "execution_count": null,
   "id": "impaired-tribe",
   "metadata": {},
   "outputs": [],
   "source": [
    "def one_simulated_distance():\n",
    "    proportion_purple_in_sample = sample_proportions(929, model_proportions).item(0)\n",
    "    return distance_from_75(proportion_purple_in_sample)\n"
   ]
  },
  {
   "cell_type": "code",
   "execution_count": null,
   "id": "czech-answer",
   "metadata": {},
   "outputs": [],
   "source": [
    "distances = make_array()\n",
    "\n",
    "repetitions = 10000\n",
    "for i in np.arange(repetitions):\n",
    "    distances = np.append(distances, one_simulated_distance())\n"
   ]
  },
  {
   "cell_type": "code",
   "execution_count": null,
   "id": "suffering-naples",
   "metadata": {},
   "outputs": [],
   "source": [
    "Table().with_column(\n",
    "    'Distance between Sample % and 75%', distances\n",
    ").hist()\n"
   ]
  },
  {
   "cell_type": "code",
   "execution_count": null,
   "id": "former-opening",
   "metadata": {},
   "outputs": [],
   "source": [
    "#Comparing the Prediction and the Data\n",
    "705 / 929\n"
   ]
  },
  {
   "cell_type": "code",
   "execution_count": null,
   "id": "novel-jones",
   "metadata": {},
   "outputs": [],
   "source": [
    "observed_statistic = distance_from_75(705/929)\n",
    "observed_statistic\n"
   ]
  },
  {
   "cell_type": "code",
   "execution_count": null,
   "id": "excellent-victor",
   "metadata": {},
   "outputs": [],
   "source": [
    "Table().with_column(\n",
    "    'Distance between Sample % and 75%', distances\n",
    ").hist()\n",
    "plt.scatter(observed_statistic, 0, color='red', s=100);\n"
   ]
  },
  {
   "cell_type": "code",
   "execution_count": null,
   "id": "phantom-combine",
   "metadata": {},
   "outputs": [],
   "source": []
  }
 ],
 "metadata": {
  "kernelspec": {
   "display_name": "Python 3",
   "language": "python",
   "name": "python3"
  },
  "language_info": {
   "codemirror_mode": {
    "name": "ipython",
    "version": 3
   },
   "file_extension": ".py",
   "mimetype": "text/x-python",
   "name": "python",
   "nbconvert_exporter": "python",
   "pygments_lexer": "ipython3",
   "version": "3.9.1"
  }
 },
 "nbformat": 4,
 "nbformat_minor": 5
}
